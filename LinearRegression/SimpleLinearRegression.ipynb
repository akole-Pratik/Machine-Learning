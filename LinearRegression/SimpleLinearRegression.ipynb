{
 "cells": [
  {
   "cell_type": "markdown",
   "id": "33d0159f",
   "metadata": {},
   "source": [
    "# Regression\n",
    "- Regression is nothing but process of establishing relationsip between dependent and one or more independent variable.\n",
    "- It is a Supervised machine learning technique which is used to predict continuous values.\n",
    "- Regression analysis helps us to understand how the value of dependent variables changes corresponding to independent   variable."
   ]
  },
  {
   "cell_type": "markdown",
   "id": "6ec96e03",
   "metadata": {},
   "source": [
    "Q. What is Linear Regression?\n",
    "-  When the relationship between dependent and oneor more independent variable is linear in nature then it is known as Linear Regression.\n",
    "- If there is only one input variable (X) then such regression is Simple Linear Regression.\n",
    "- I there is one or more input variable it is known as Multiple linear Regression."
   ]
  },
  {
   "cell_type": "code",
   "execution_count": 1,
   "id": "9b56bcdd",
   "metadata": {},
   "outputs": [],
   "source": [
    "import numpy as np\n",
    "import pandas as pd\n",
    "import matplotlib.pyplot as plt\n",
    "import seaborn as sns\n",
    "\n",
    "import warnings\n",
    "warnings.filterwarnings(\"ignore\")"
   ]
  },
  {
   "cell_type": "code",
   "execution_count": 2,
   "id": "51aac1b1",
   "metadata": {},
   "outputs": [],
   "source": [
    "x = np.array([1,2,3,4,5])\n",
    "\n",
    "y = np.array([3,4,2,4,5])\n",
    "\n",
    "#y = np.array([35,50,65,80,95])"
   ]
  },
  {
   "cell_type": "code",
   "execution_count": 3,
   "id": "eb76a5a6",
   "metadata": {},
   "outputs": [
    {
     "data": {
      "text/html": [
       "<div>\n",
       "<style scoped>\n",
       "    .dataframe tbody tr th:only-of-type {\n",
       "        vertical-align: middle;\n",
       "    }\n",
       "\n",
       "    .dataframe tbody tr th {\n",
       "        vertical-align: top;\n",
       "    }\n",
       "\n",
       "    .dataframe thead th {\n",
       "        text-align: right;\n",
       "    }\n",
       "</style>\n",
       "<table border=\"1\" class=\"dataframe\">\n",
       "  <thead>\n",
       "    <tr style=\"text-align: right;\">\n",
       "      <th></th>\n",
       "      <th>X</th>\n",
       "      <th>Y</th>\n",
       "    </tr>\n",
       "  </thead>\n",
       "  <tbody>\n",
       "    <tr>\n",
       "      <th>0</th>\n",
       "      <td>1</td>\n",
       "      <td>3</td>\n",
       "    </tr>\n",
       "    <tr>\n",
       "      <th>1</th>\n",
       "      <td>2</td>\n",
       "      <td>4</td>\n",
       "    </tr>\n",
       "    <tr>\n",
       "      <th>2</th>\n",
       "      <td>3</td>\n",
       "      <td>2</td>\n",
       "    </tr>\n",
       "    <tr>\n",
       "      <th>3</th>\n",
       "      <td>4</td>\n",
       "      <td>4</td>\n",
       "    </tr>\n",
       "    <tr>\n",
       "      <th>4</th>\n",
       "      <td>5</td>\n",
       "      <td>5</td>\n",
       "    </tr>\n",
       "  </tbody>\n",
       "</table>\n",
       "</div>"
      ],
      "text/plain": [
       "   X  Y\n",
       "0  1  3\n",
       "1  2  4\n",
       "2  3  2\n",
       "3  4  4\n",
       "4  5  5"
      ]
     },
     "execution_count": 3,
     "metadata": {},
     "output_type": "execute_result"
    }
   ],
   "source": [
    "dic = {\"X\":x, \"Y\":y}\n",
    "\n",
    "df= pd.DataFrame(dic)\n",
    "\n",
    "df"
   ]
  },
  {
   "cell_type": "markdown",
   "id": "c474918b",
   "metadata": {},
   "source": [
    "Goal -: To find the best fit line using Least Square Method"
   ]
  },
  {
   "cell_type": "markdown",
   "id": "551c9ae9",
   "metadata": {},
   "source": [
    "### In order to find that, we need to have a equation of line "
   ]
  },
  {
   "cell_type": "markdown",
   "id": "f2e53d81",
   "metadata": {},
   "source": [
    "- The equation of Regression line is given by,\n",
    "- Y = MX + C\n",
    "    - where,\n",
    "        - Y is dependent variable\n",
    "        - x is independent variable\n",
    "        - m is the coefficient of regression(slope/gradient)\n",
    "        - c is the intercept"
   ]
  },
  {
   "cell_type": "markdown",
   "id": "92dc15bc",
   "metadata": {},
   "source": [
    "however, the value of \"m\" & \"c\" is unknown, so first we need to find the value of \"m\" which is given by this equation"
   ]
  },
  {
   "cell_type": "markdown",
   "id": "b5fd7171",
   "metadata": {},
   "source": [
    "![title](slope.png)"
   ]
  },
  {
   "cell_type": "markdown",
   "id": "c084fe56",
   "metadata": {},
   "source": [
    "- xdash is the mean of x\n",
    "- ydash is the mean of y"
   ]
  },
  {
   "cell_type": "code",
   "execution_count": 4,
   "id": "bb41fff6",
   "metadata": {},
   "outputs": [
    {
     "name": "stdout",
     "output_type": "stream",
     "text": [
      "Mean of x -: 3.0\n",
      "Mean of y -: 3.6\n"
     ]
    }
   ],
   "source": [
    "xmean = x.mean()\n",
    "ymean = y.mean()\n",
    "\n",
    "print(f\"Mean of x -: {xmean}\")\n",
    "print(f\"Mean of y -: {ymean}\")"
   ]
  },
  {
   "cell_type": "code",
   "execution_count": 5,
   "id": "d3856776",
   "metadata": {},
   "outputs": [
    {
     "name": "stdout",
     "output_type": "stream",
     "text": [
      "The Coefficient of Regression (or slope)-: 0.4\n"
     ]
    }
   ],
   "source": [
    "m = sum((x-xmean)*(y-ymean))/ sum((x-xmean)**2)\n",
    "\n",
    "print(f\"The Coefficient of Regression (or slope)-: {m}\")"
   ]
  },
  {
   "cell_type": "code",
   "execution_count": 6,
   "id": "309456b5",
   "metadata": {},
   "outputs": [
    {
     "name": "stdout",
     "output_type": "stream",
     "text": [
      "The intercept of Regression Line -: 2.4\n"
     ]
    }
   ],
   "source": [
    "#y = m * x + c\n",
    "\n",
    "c = ymean - (xmean*m)\n",
    "\n",
    "print(f\"The intercept of Regression Line -: {c}\")"
   ]
  },
  {
   "cell_type": "code",
   "execution_count": 7,
   "id": "73814709",
   "metadata": {},
   "outputs": [],
   "source": [
    "def linreg(x):\n",
    "    return (m*x)+c"
   ]
  },
  {
   "cell_type": "code",
   "execution_count": 8,
   "id": "2d7ba025",
   "metadata": {},
   "outputs": [
    {
     "data": {
      "text/plain": [
       "array([1, 2, 3, 4, 5])"
      ]
     },
     "execution_count": 8,
     "metadata": {},
     "output_type": "execute_result"
    }
   ],
   "source": [
    "x"
   ]
  },
  {
   "cell_type": "code",
   "execution_count": 9,
   "id": "739aa14f",
   "metadata": {},
   "outputs": [],
   "source": [
    "ypred = np.array(list(map(linreg, x)))"
   ]
  },
  {
   "cell_type": "code",
   "execution_count": 10,
   "id": "212048cd",
   "metadata": {},
   "outputs": [
    {
     "data": {
      "text/plain": [
       "array([2.8, 3.2, 3.6, 4. , 4.4])"
      ]
     },
     "execution_count": 10,
     "metadata": {},
     "output_type": "execute_result"
    }
   ],
   "source": [
    "ypred"
   ]
  },
  {
   "cell_type": "code",
   "execution_count": 11,
   "id": "3127c5f0",
   "metadata": {},
   "outputs": [
    {
     "data": {
      "text/html": [
       "<div>\n",
       "<style scoped>\n",
       "    .dataframe tbody tr th:only-of-type {\n",
       "        vertical-align: middle;\n",
       "    }\n",
       "\n",
       "    .dataframe tbody tr th {\n",
       "        vertical-align: top;\n",
       "    }\n",
       "\n",
       "    .dataframe thead th {\n",
       "        text-align: right;\n",
       "    }\n",
       "</style>\n",
       "<table border=\"1\" class=\"dataframe\">\n",
       "  <thead>\n",
       "    <tr style=\"text-align: right;\">\n",
       "      <th></th>\n",
       "      <th>X</th>\n",
       "      <th>Acutal Y</th>\n",
       "      <th>Predicted Y</th>\n",
       "    </tr>\n",
       "  </thead>\n",
       "  <tbody>\n",
       "    <tr>\n",
       "      <th>0</th>\n",
       "      <td>1</td>\n",
       "      <td>3</td>\n",
       "      <td>2.8</td>\n",
       "    </tr>\n",
       "    <tr>\n",
       "      <th>1</th>\n",
       "      <td>2</td>\n",
       "      <td>4</td>\n",
       "      <td>3.2</td>\n",
       "    </tr>\n",
       "    <tr>\n",
       "      <th>2</th>\n",
       "      <td>3</td>\n",
       "      <td>2</td>\n",
       "      <td>3.6</td>\n",
       "    </tr>\n",
       "    <tr>\n",
       "      <th>3</th>\n",
       "      <td>4</td>\n",
       "      <td>4</td>\n",
       "      <td>4.0</td>\n",
       "    </tr>\n",
       "    <tr>\n",
       "      <th>4</th>\n",
       "      <td>5</td>\n",
       "      <td>5</td>\n",
       "      <td>4.4</td>\n",
       "    </tr>\n",
       "  </tbody>\n",
       "</table>\n",
       "</div>"
      ],
      "text/plain": [
       "   X  Acutal Y  Predicted Y\n",
       "0  1         3          2.8\n",
       "1  2         4          3.2\n",
       "2  3         2          3.6\n",
       "3  4         4          4.0\n",
       "4  5         5          4.4"
      ]
     },
     "execution_count": 11,
     "metadata": {},
     "output_type": "execute_result"
    }
   ],
   "source": [
    "dic = {\"X\":x, \"Acutal Y\":y, \"Predicted Y\":ypred}\n",
    "\n",
    "df = pd.DataFrame(dic)\n",
    "\n",
    "df"
   ]
  },
  {
   "cell_type": "code",
   "execution_count": 12,
   "id": "6c652970",
   "metadata": {},
   "outputs": [
    {
     "data": {
      "image/png": "[encoded data removed]",
      "text/plain": [
       "<Figure size 432x288 with 1 Axes>"
      ]
     },
     "metadata": {
      "needs_background": "light"
     },
     "output_type": "display_data"
    }
   ],
   "source": [
    "plt.scatter(x,y, color=\"red\") #actual value\n",
    "plt.plot(x, ypred, color=\"blue\") #predict value\n",
    "\n",
    "plt.title(\"Simple Linear Regression\")\n",
    "plt.xlabel(\"x (hr of study)\")\n",
    "plt.ylabel(\"y (marks obtained out of 5)\")\n",
    "plt.grid(True)\n",
    "plt.show()"
   ]
  },
  {
   "cell_type": "markdown",
   "id": "b9e61dd3",
   "metadata": {},
   "source": [
    "Now the is to calculate the distance between the actual and predicted value of \"y\""
   ]
  },
  {
   "cell_type": "markdown",
   "id": "afd8e892",
   "metadata": {},
   "source": [
    "- R-squared value is a statistical measure of how close the data are to the fitted regression line\n",
    "- It is also known as Coefficient of Multiple determination\n",
    "- The equation fo R-squared is given by,"
   ]
  },
  {
   "cell_type": "markdown",
   "id": "f22219f5",
   "metadata": {},
   "source": [
    "![title](r2.png)"
   ]
  },
  {
   "cell_type": "code",
   "execution_count": 13,
   "id": "52fa3868",
   "metadata": {},
   "outputs": [],
   "source": [
    "r2 = sum((ypred-ymean)**2)/sum((y-ymean)**2)"
   ]
  },
  {
   "cell_type": "code",
   "execution_count": 14,
   "id": "76c38fcb",
   "metadata": {},
   "outputs": [
    {
     "name": "stdout",
     "output_type": "stream",
     "text": [
      "The R-squared value is -: 30.76923076923078\n"
     ]
    }
   ],
   "source": [
    "print(f\"The R-squared value is -: {r2*100}\")"
   ]
  },
  {
   "cell_type": "markdown",
   "id": "96829fba",
   "metadata": {},
   "source": [
    "- By observing the r2 value, we can conclude that, this regression line is not a good fit and it also suggest that actaul value of \"y\" is far away from the predicted value of \"y\""
   ]
  },
  {
   "cell_type": "markdown",
   "id": "f71e9b35",
   "metadata": {},
   "source": [
    "- The r2 value lies in between 0 & 1, the bigger the r2 value, the more good the regression line will be"
   ]
  },
  {
   "cell_type": "markdown",
   "id": "f20c2560",
   "metadata": {},
   "source": [
    "- if you are predicting human behaviour then 0.3 is also good value\n",
    "- if you are predicting medicine results then accuracy should be above 98% i.e 0.98"
   ]
  },
  {
   "cell_type": "code",
   "execution_count": 15,
   "id": "c52d31bf",
   "metadata": {},
   "outputs": [
    {
     "data": {
      "text/plain": [
       "5.2"
      ]
     },
     "execution_count": 15,
     "metadata": {},
     "output_type": "execute_result"
    }
   ],
   "source": [
    "linreg(7)"
   ]
  }
 ],
 "metadata": {
  "kernelspec": {
   "display_name": "Python 3 (ipykernel)",
   "language": "python",
   "name": "python3"
  },
  "language_info": {
   "codemirror_mode": {
    "name": "ipython",
    "version": 3
   },
   "file_extension": ".py",
   "mimetype": "text/x-python",
   "name": "python",
   "nbconvert_exporter": "python",
   "pygments_lexer": "ipython3",
   "version": "3.9.7"
  }
 },
 "nbformat": 4,
 "nbformat_minor": 5
}
